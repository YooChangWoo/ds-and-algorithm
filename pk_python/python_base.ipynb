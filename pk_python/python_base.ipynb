{
 "cells": [
  {
   "cell_type": "code",
   "execution_count": null,
   "metadata": {},
   "outputs": [],
   "source": [
    "a = 5"
   ]
  },
  {
   "cell_type": "markdown",
   "metadata": {},
   "source": [
    "### 변수 정의"
   ]
  },
  {
   "cell_type": "code",
   "execution_count": null,
   "metadata": {},
   "outputs": [],
   "source": [
    "\"\"\"\n",
    "데이터 타입의 구분....(Python 기준)\n",
    "\n",
    "<한개의 값을 저장하는 타입>\n",
    "- 일반변수라고 칭합니다.\n",
    "- int, str, float, bool\n",
    "\n",
    "<여러개의 값을 저장하는 타입>\n",
    "- List, Di의ct, Tuple, DataFrame\n",
    "\"\"\""
   ]
  },
  {
   "cell_type": "code",
   "execution_count": 1,
   "metadata": {},
   "outputs": [
    {
     "name": "stdout",
     "output_type": "stream",
     "text": [
      "10\n"
     ]
    }
   ],
   "source": [
    "### <한개의 값을 저장하는 타입> // 일반변수\n",
    "# - 타입이 정해지는 시점 : 값이 정의 될 때...\n",
    "# - 하나의 변수에 여러 타입을 수정해서 넣을 수 있습니다.\n",
    "\n",
    "### a라는 변수에 10이라는 정수값을 넣어라\n",
    "# - 하나의 메모리 공간에 10이라는 값을넣어서, 메모리 주소를 a라는 변수에 넣어줍니다.\n",
    "a = 10\n",
    "print(a)\n",
    "\n",
    "a = \"aaa\"\n",
    "a = 10.5\n",
    "a = True"
   ]
  },
  {
   "cell_type": "code",
   "execution_count": 2,
   "metadata": {},
   "outputs": [
    {
     "data": {
      "text/plain": [
       "[10, 'aaa', 10.5, True]"
      ]
     },
     "execution_count": 2,
     "metadata": {},
     "output_type": "execute_result"
    }
   ],
   "source": [
    "### <여러개의 값을 저장하는 타입>\n",
    "# - List, Dict, Tuple, DataFrame\n",
    "# 사용하는 기호에 따른 구분\n",
    "# - List : [] -> 여러 자료형의 데이터를 담을 수 있음 (순서=index가 있음)\n",
    "# - Dict : {} - 여러 자료형의 데이터를 key : value 형태로 담을 수 있음 (순서가 없음)\n",
    "# - Tuple : () -> 리스트와 동이랗게 사용되며, 다만 수정을 못한다는 차이점만 있음\n",
    "\n",
    "a_list = [10, \"aaa\", 10.5, True]\n",
    "a_list\n"
   ]
  },
  {
   "cell_type": "code",
   "execution_count": 5,
   "metadata": {},
   "outputs": [
    {
     "data": {
      "text/plain": [
       "'aaa'"
      ]
     },
     "execution_count": 5,
     "metadata": {},
     "output_type": "execute_result"
    }
   ],
   "source": [
    "a=20\n",
    "\n",
    "b_list = [a, a_list]\n",
    "b_list[1][1]"
   ]
  },
  {
   "cell_type": "code",
   "execution_count": 7,
   "metadata": {},
   "outputs": [
    {
     "data": {
      "text/plain": [
       "('a', 'b')"
      ]
     },
     "execution_count": 7,
     "metadata": {},
     "output_type": "execute_result"
    }
   ],
   "source": [
    "a_str = \"abcde\"\n",
    "a_str[0], a_str[1]"
   ]
  },
  {
   "cell_type": "code",
   "execution_count": 10,
   "metadata": {},
   "outputs": [
    {
     "data": {
      "text/plain": [
       "{'name': '홍길동2', 'age': 50, 'area': '부산'}"
      ]
     },
     "execution_count": 10,
     "metadata": {},
     "output_type": "execute_result"
    }
   ],
   "source": [
    "dict_data = {\"name\" : \"홍길동\", \"age\" : 50, \"area\" : \"부산\"}\n",
    "dict_data[\"name\"]\n",
    "dict_data[\"name\"] = \"홍길동2\"\n",
    "dict_data\n",
    "\n",
    "## append로 추가"
   ]
  },
  {
   "cell_type": "code",
   "execution_count": 11,
   "metadata": {},
   "outputs": [],
   "source": [
    "b_list.append(\"홍길동\")"
   ]
  },
  {
   "cell_type": "code",
   "execution_count": 12,
   "metadata": {},
   "outputs": [
    {
     "data": {
      "text/plain": [
       "[20, [10, 'aaa', 10.5, True], '홍길동']"
      ]
     },
     "execution_count": 12,
     "metadata": {},
     "output_type": "execute_result"
    }
   ],
   "source": [
    "b_list"
   ]
  },
  {
   "cell_type": "code",
   "execution_count": 13,
   "metadata": {},
   "outputs": [
    {
     "data": {
      "text/plain": [
       "dict_keys(['name', 'age', 'area'])"
      ]
     },
     "execution_count": 13,
     "metadata": {},
     "output_type": "execute_result"
    }
   ],
   "source": [
    "### 딕셔너리 -> key값 조회하기\n",
    "dict_data.keys()"
   ]
  },
  {
   "cell_type": "code",
   "execution_count": 14,
   "metadata": {},
   "outputs": [
    {
     "data": {
      "text/plain": [
       "dict_values(['홍길동2', 50, '부산'])"
      ]
     },
     "execution_count": 14,
     "metadata": {},
     "output_type": "execute_result"
    }
   ],
   "source": [
    "dict_data.values()"
   ]
  },
  {
   "cell_type": "code",
   "execution_count": 15,
   "metadata": {},
   "outputs": [
    {
     "data": {
      "text/plain": [
       "dict_items([('name', '홍길동2'), ('age', 50), ('area', '부산')])"
      ]
     },
     "execution_count": 15,
     "metadata": {},
     "output_type": "execute_result"
    }
   ],
   "source": [
    "dict_data.items()"
   ]
  },
  {
   "cell_type": "code",
   "execution_count": 19,
   "metadata": {},
   "outputs": [
    {
     "data": {
      "text/plain": [
       "4"
      ]
     },
     "execution_count": 19,
     "metadata": {},
     "output_type": "execute_result"
    }
   ],
   "source": [
    "a_list\n",
    "len(a_list)"
   ]
  },
  {
   "cell_type": "code",
   "execution_count": 21,
   "metadata": {},
   "outputs": [
    {
     "name": "stdout",
     "output_type": "stream",
     "text": [
      "10\n",
      "aaa\n",
      "10.5\n",
      "True\n"
     ]
    }
   ],
   "source": [
    "### a_list의 값들을 for 반복문을 이용해서 출력\n",
    "# 반복문 사용 방법 1 : 인덱스 번호를 이용하는 방법\n",
    "\n",
    "for i in range(0, len(a_list), 1) :\n",
    "    print(a_list[i])"
   ]
  },
  {
   "cell_type": "code",
   "execution_count": 23,
   "metadata": {},
   "outputs": [
    {
     "name": "stdout",
     "output_type": "stream",
     "text": [
      "10\n",
      "aaa\n",
      "10.5\n",
      "True\n"
     ]
    }
   ],
   "source": [
    "# 반복문 사용방법 2 : 값을 이용하는 방법\n",
    "for v in a_list:\n",
    "    print(v)"
   ]
  },
  {
   "cell_type": "code",
   "execution_count": 24,
   "metadata": {},
   "outputs": [
    {
     "data": {
      "text/plain": [
       "{'name': '홍길동2', 'age': 50, 'area': '부산'}"
      ]
     },
     "execution_count": 24,
     "metadata": {},
     "output_type": "execute_result"
    }
   ],
   "source": [
    "### dict_data의 각각 값을 출력하기 ... for문 사용\n",
    "dict_data"
   ]
  },
  {
   "cell_type": "code",
   "execution_count": 30,
   "metadata": {},
   "outputs": [
    {
     "name": "stdout",
     "output_type": "stream",
     "text": [
      "name = 홍길동2\n",
      "age = 50\n",
      "area = 부산\n"
     ]
    }
   ],
   "source": [
    "for k in dict_data.keys():\n",
    "    print(f\"{k} = {dict_data[k]}\")"
   ]
  },
  {
   "cell_type": "code",
   "execution_count": 31,
   "metadata": {},
   "outputs": [
    {
     "name": "stdout",
     "output_type": "stream",
     "text": [
      "홍길동2\n",
      "50\n",
      "부산\n"
     ]
    }
   ],
   "source": [
    "### 값으로 하기\n",
    "for v in dict_data.values():\n",
    "    print(v)"
   ]
  },
  {
   "cell_type": "code",
   "execution_count": 32,
   "metadata": {},
   "outputs": [
    {
     "data": {
      "text/plain": [
       "dict_items([('name', '홍길동2'), ('age', 50), ('area', '부산')])"
      ]
     },
     "execution_count": 32,
     "metadata": {},
     "output_type": "execute_result"
    }
   ],
   "source": [
    "dict_data.items()"
   ]
  },
  {
   "cell_type": "code",
   "execution_count": 33,
   "metadata": {},
   "outputs": [
    {
     "data": {
      "text/plain": [
       "('abc', 'def')"
      ]
     },
     "execution_count": 33,
     "metadata": {},
     "output_type": "execute_result"
    }
   ],
   "source": [
    "\"abc\",\"def\""
   ]
  },
  {
   "cell_type": "code",
   "execution_count": 35,
   "metadata": {},
   "outputs": [
    {
     "name": "stdout",
     "output_type": "stream",
     "text": [
      "('name', '홍길동2')\n",
      "('age', 50)\n",
      "('area', '부산')\n",
      "name 홍길동2\n",
      "age 50\n",
      "area 부산\n"
     ]
    }
   ],
   "source": [
    "## items는 두개를 하나로 만들어 준다.\n",
    "\n",
    "for item in dict_data.items():\n",
    "    print(item)\n",
    "\n",
    "## 각각으로 받는 방법\n",
    "for k, v in dict_data.items():\n",
    "    print(k, v)"
   ]
  },
  {
   "cell_type": "markdown",
   "metadata": {},
   "source": [
    "### 함수"
   ]
  },
  {
   "cell_type": "code",
   "execution_count": null,
   "metadata": {},
   "outputs": [],
   "source": [
    "\"\"\"\n",
    "< 함수(function, method, def)>\n",
    "    - 자주 반복해서 사용되는 프로그램 특정기능을 미리 정의해 놓고 호출해서 사용(재사용성)\n",
    "    - 값을 전달 받을 수도 있고, 반환(retrun)할 수도 있습니다.\n",
    "    - 함수는 함수명, 매개변수들, 반환값(return)으로 정의합니다.\n",
    "    - 특정 기능을 수행하는 용도로 사용하며, 함수 내에서는 값들을 가급적 정의하지 않습니다.(매개변수는 제외)\n",
    "\n",
    "<함수를 생선하는 순서?>\n",
    "    - 절차적 프로그램으로 사전에 테스트\n",
    "    - 테스트 시 오류가 없는 경우\n",
    "    - 정의된 함수에 프록램 코드를 가급적 copy하여 넣기\n",
    "    - 최종 호출하여 테스트...\n",
    "\"\"\""
   ]
  },
  {
   "cell_type": "code",
   "execution_count": 1,
   "metadata": {},
   "outputs": [
    {
     "name": "stdout",
     "output_type": "stream",
     "text": [
      "test\n"
     ]
    }
   ],
   "source": [
    "print(\"test\", \"tttt\")"
   ]
  },
  {
   "cell_type": "code",
   "execution_count": 3,
   "metadata": {},
   "outputs": [
    {
     "data": {
      "text/plain": [
       "123"
      ]
     },
     "execution_count": 3,
     "metadata": {},
     "output_type": "execute_result"
    }
   ],
   "source": [
    "a = int(input(\"번호를 입력하세요 : \"))\n",
    "a"
   ]
  },
  {
   "cell_type": "code",
   "execution_count": 6,
   "metadata": {},
   "outputs": [
    {
     "name": "stdout",
     "output_type": "stream",
     "text": [
      "15\n"
     ]
    }
   ],
   "source": [
    "### 두개의 값을 각각 입력 받아서  더한 값을 출력하시오\n",
    "a = int(input(\"첫번 째 번호를 입력하시오\"))\n",
    "b = int(input(\"두번 째 번호를 입력하시오\"))\n",
    "print(a+b)"
   ]
  },
  {
   "cell_type": "code",
   "execution_count": 11,
   "metadata": {},
   "outputs": [
    {
     "name": "stdout",
     "output_type": "stream",
     "text": [
      "15\n"
     ]
    }
   ],
   "source": [
    "### 함수로 만들기\n",
    "# - 두개의 함수를 만듭니다.\n",
    "# -> 한개 함수는 두개의 정수값을 각각 입력 받는 함수\n",
    "# -> 두번째 함수는 두개의 정수값을 합산하는 함수\n",
    "\n",
    "# -> 세번째 함수를 만들어서, 위 두개의 함수를 각각 호출해서 초종 합산 결과를 출력해 주세요.\n",
    "\n",
    "a = 10\n",
    "b = int(input(\"숫자를 입력해주세요\"))\n",
    "print(a+b)\n",
    "\n",
    "c = a+b"
   ]
  },
  {
   "cell_type": "code",
   "execution_count": 14,
   "metadata": {},
   "outputs": [],
   "source": [
    "def setInput():\n",
    "    a = int(input(\"첫번째 숫자 입력 : \"))\n",
    "    b = int(input(\"두번째 숫자 입력 : \"))\n",
    "    return a,b"
   ]
  },
  {
   "cell_type": "code",
   "execution_count": 17,
   "metadata": {},
   "outputs": [],
   "source": [
    "def getPlus(a1, b1) : \n",
    "    return a1 + b1\n"
   ]
  },
  {
   "cell_type": "code",
   "execution_count": 20,
   "metadata": {},
   "outputs": [],
   "source": [
    "def processMain():\n",
    "    a, b = setInput()\n",
    "    sum = getPlus(a, b)\n",
    "    print(f\"a + b = sum : {a} + {b} = {sum}\")"
   ]
  },
  {
   "cell_type": "code",
   "execution_count": 25,
   "metadata": {},
   "outputs": [
    {
     "name": "stdout",
     "output_type": "stream",
     "text": [
      "a + b = sum : 10 + 15 = 25\n"
     ]
    }
   ],
   "source": [
    "processMain()"
   ]
  },
  {
   "cell_type": "code",
   "execution_count": null,
   "metadata": {},
   "outputs": [],
   "source": [
    "### 두개의 값을 전달 받아서 더하는 함수 생성하기\n",
    "# 단, 두번째 값은 디폴트 값 2개를 사용합니다.\n",
    "# 호출 시 인자(전달하는 값)는 1개만 사용 ..."
   ]
  },
  {
   "cell_type": "code",
   "execution_count": 26,
   "metadata": {},
   "outputs": [],
   "source": [
    "def ainput(a1, b1=2):\n",
    "    return a1 + b1"
   ]
  },
  {
   "cell_type": "code",
   "execution_count": 27,
   "metadata": {},
   "outputs": [
    {
     "data": {
      "text/plain": [
       "12"
      ]
     },
     "execution_count": 27,
     "metadata": {},
     "output_type": "execute_result"
    }
   ],
   "source": [
    "ainput(10)"
   ]
  },
  {
   "cell_type": "code",
   "execution_count": null,
   "metadata": {},
   "outputs": [],
   "source": [
    "### 함수를 생성\n",
    "# - 매개변수가 몇개 들어올지 모릅니다.\n",
    "# - 전달받은 매개변수들을 모두 출력해 주시면 됩니다.\n",
    "# - 함수 내에서 print 하시면 됩니다."
   ]
  },
  {
   "cell_type": "code",
   "execution_count": 28,
   "metadata": {},
   "outputs": [],
   "source": [
    "def printMethod(*args):\n",
    "    print(args)"
   ]
  },
  {
   "cell_type": "code",
   "execution_count": 29,
   "metadata": {},
   "outputs": [
    {
     "name": "stdout",
     "output_type": "stream",
     "text": [
      "('test', 'aaa', 1, 1.2)\n"
     ]
    }
   ],
   "source": [
    "printMethod(\"test\", \"aaa\", 1, 1.2)"
   ]
  },
  {
   "cell_type": "code",
   "execution_count": 40,
   "metadata": {},
   "outputs": [],
   "source": [
    "\"\"\"\n",
    "<클래스>\n",
    " - 여러 기능 또는 여러 변수들을 정의해서 사용하는 객체\n",
    " - 하나의 클래스는 여러 기능을 대표할 수 있는 형태들의 모임\n",
    " - 클래스 이름은 대문자로 시작합니다.\n",
    " - 클래스 내에서 정의하는 모든 함수의 매개변수는 self가 필수(첫번째 매개변수에 무조건...)\n",
    " - self : 클래스 내에 있는 모든 맴버에 접근할 수 있는 객체를 의미합니다.\n",
    " - 클래스 내에서 함수를 호출할 때에는 self를 이용해서 함수를 호출해야 하니다.(함수는 자동으로 맴버가 됩니다.)\n",
    "\"\"\"\n",
    "\n",
    "class Math : \n",
    "    ### 클래스 생성자\n",
    "    # - 클래스 생성시 초기화 할 값이나, 함수 호출 시 사용합니다.\n",
    "    # - 최초에 초기화할 값이 없거나 호출할 함수가 없으면, 생략 가능합니다.\n",
    "    # - 생략하는 경우 -> 외부에서 클래스 생성시, default 생성자가 자동으로 호출됩니다.\n",
    "    # - 생성자의 역할 : 클래스를 메모리에 올리는 작업을 수행합니다.(메모리 주소를 발급)\n",
    "    def __init__(self, a, b):\n",
    "        self.a = a\n",
    "        self.b = b\n",
    "        self.getPlus()\n",
    "\n",
    "    def setData(self, a, b):\n",
    "        self.a = a\n",
    "        self.b = b\n",
    "        \n",
    "\n",
    "    def getPlus(self):\n",
    "        self.sum = self.a + self.b\n",
    "        return self.sum\n"
   ]
  },
  {
   "cell_type": "code",
   "execution_count": null,
   "metadata": {},
   "outputs": [],
   "source": [
    "### 클래스 생성 후 두개의 데이터를 전달하여 출력해 주시오\n",
    "math = Math()\n",
    "# math.setData(10, 20)\n",
    "math.sum\n",
    "math.getPlus()"
   ]
  },
  {
   "cell_type": "code",
   "execution_count": 41,
   "metadata": {},
   "outputs": [
    {
     "data": {
      "text/plain": [
       "40"
      ]
     },
     "execution_count": 41,
     "metadata": {},
     "output_type": "execute_result"
    }
   ],
   "source": [
    "math = Math(10, 30)\n",
    "math.sum\n",
    "math.getPlus()"
   ]
  },
  {
   "cell_type": "code",
   "execution_count": null,
   "metadata": {},
   "outputs": [],
   "source": [
    "\"\"\"\n",
    "구구단 출력 클래스 생성하기\n",
    " - 단과 숫자 두개의 값을 입력 받아서, 입력된 단과 숫자 만큼만 구구단을 출력하도록 합니다.\n",
    "\"\"\""
   ]
  },
  {
   "cell_type": "code",
   "execution_count": 42,
   "metadata": {},
   "outputs": [],
   "source": [
    "class Gugudan():\n",
    "    def __init__(self, dan, num):\n",
    "        self.dan = dan\n",
    "        self.num = num\n",
    "        self.printGugudan()\n",
    "\n",
    "    def printGugudan(self):\n",
    "        for i in range(1, self.num+1, 1):\n",
    "            print(f\"{self.dan}*{i} = {self.dan*i}\")\n"
   ]
  },
  {
   "cell_type": "code",
   "execution_count": 43,
   "metadata": {},
   "outputs": [
    {
     "name": "stdout",
     "output_type": "stream",
     "text": [
      "3*1 = 3\n",
      "3*2 = 6\n",
      "3*3 = 9\n",
      "3*4 = 12\n",
      "3*5 = 15\n",
      "3*6 = 18\n",
      "3*7 = 21\n",
      "3*8 = 24\n",
      "3*9 = 27\n"
     ]
    },
    {
     "data": {
      "text/plain": [
       "<__main__.Gugudan at 0x16e4aee8b50>"
      ]
     },
     "execution_count": 43,
     "metadata": {},
     "output_type": "execute_result"
    }
   ],
   "source": [
    "Gugudan(3,9)"
   ]
  }
 ],
 "metadata": {
  "kernelspec": {
   "display_name": "Python 3",
   "language": "python",
   "name": "python3"
  },
  "language_info": {
   "codemirror_mode": {
    "name": "ipython",
    "version": 3
   },
   "file_extension": ".py",
   "mimetype": "text/x-python",
   "name": "python",
   "nbconvert_exporter": "python",
   "pygments_lexer": "ipython3",
   "version": "3.11.8"
  }
 },
 "nbformat": 4,
 "nbformat_minor": 2
}

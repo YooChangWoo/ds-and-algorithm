{
 "cells": [
  {
   "cell_type": "code",
   "execution_count": null,
   "metadata": {},
   "outputs": [],
   "source": [
    "# file: ds01_syntax.ipynb\n",
    "# desc: 파이썬 기본문법 복습"
   ]
  },
  {
   "cell_type": "markdown",
   "metadata": {},
   "source": [
    "## 자료구조와 알고리즘\n",
    "-파이썬 기본문법 복습\n",
    "\n",
    "### 1. 변수 & 콘솔출력\n",
    "print()"
   ]
  },
  {
   "cell_type": "code",
   "execution_count": 1,
   "metadata": {},
   "outputs": [],
   "source": [
    "# 코딩 네이밍룰(Naming Rule)\n",
    "# 변수앞 i 적으면 정수형, f를 적으면 실수형, s를 적으면 문자열형, is를 쓰면 Boolean형\n",
    "isBasic = True\n",
    "iMonth = 12\n",
    "sMonth = 'December'\n",
    "fTaxRate = 10.2\n",
    "\n",
    "isBasic, iMonth, sMonth, fTaxRate = False, 1, 'January', 8.8"
   ]
  },
  {
   "cell_type": "code",
   "execution_count": 3,
   "metadata": {},
   "outputs": [
    {
     "name": "stdout",
     "output_type": "stream",
     "text": [
      "<class 'bool'> <class 'int'> <class 'str'> <class 'float'>\n"
     ]
    }
   ],
   "source": [
    "# 각 변수별 타입확인, 주피터 노트북에서는 변수나 함수만 써서 화면출력 가능\n",
    "# print()\n",
    "print(type(isBasic), type(iMonth), type(sMonth), type(fTaxRate))"
   ]
  },
  {
   "cell_type": "code",
   "execution_count": 4,
   "metadata": {},
   "outputs": [
    {
     "name": "stdout",
     "output_type": "stream",
     "text": [
      "100\n"
     ]
    }
   ],
   "source": [
    "# 구식방법\n",
    "# 100출력 방법 100, '100', '%d' % 100\n",
    "# '%d' 정수의 출력할건데 % 뒤에 있는 값을 정수형 문자열로 출력하라 \n",
    "print('%d' % 100)"
   ]
  },
  {
   "cell_type": "code",
   "execution_count": 5,
   "metadata": {},
   "outputs": [
    {
     "name": "stdout",
     "output_type": "stream",
     "text": [
      "200\n"
     ]
    }
   ],
   "source": [
    "print('%d' % (100 + 100))\n"
   ]
  },
  {
   "cell_type": "code",
   "execution_count": 10,
   "metadata": {},
   "outputs": [
    {
     "name": "stdout",
     "output_type": "stream",
     "text": [
      "108 | 209. 307\n"
     ]
    }
   ],
   "source": [
    "# 구식방법, 잘못된 예 %d의 개수와 % 뒤에 값 개수가 일치해야 함\n",
    "print('%d | %d. %d' % (108, 209, 307))"
   ]
  },
  {
   "cell_type": "code",
   "execution_count": 13,
   "metadata": {},
   "outputs": [
    {
     "name": "stdout",
     "output_type": "stream",
     "text": [
      "1 / January / 8.80 /H / ff / 71 \n"
     ]
    }
   ],
   "source": [
    "# %문자열 포맷에는 2진수가 없음 (c언어부터 넘어온것)\n",
    "print('%d / %s / %.2f /%c / %x / %o ' % (iMonth, sMonth, fTaxRate, 'H', 255, 57))"
   ]
  },
  {
   "cell_type": "code",
   "execution_count": 18,
   "metadata": {},
   "outputs": [
    {
     "name": "stdout",
     "output_type": "stream",
     "text": [
      "01 / January / 8.80 / H / ff / 71 / 1000\n"
     ]
    }
   ],
   "source": [
    "## 신식방법 포맷스트링 (90년대 경 발전)\n",
    "print('{0:02d} / {1} / {2:.2f} / {3} / {4:x} / {5:o} / {6:b}'.format(iMonth, sMonth, fTaxRate, 'H', 255, 57, 8))"
   ]
  },
  {
   "cell_type": "code",
   "execution_count": 21,
   "metadata": {},
   "outputs": [
    {
     "name": "stdout",
     "output_type": "stream",
     "text": [
      "01 / January / 8.80 / H / FF / 71 / 1111111111\n"
     ]
    }
   ],
   "source": [
    "## 최신식 방법 포맷스트링 (python 3.6이후 개발 (2015년))\n",
    "print(f'{iMonth:02d} / {sMonth} / {fTaxRate:.2f} / {\"H\"} / {255:X} / {57:o} / {1023:b}')"
   ]
  },
  {
   "cell_type": "markdown",
   "metadata": {},
   "source": [
    "## 2. 입력\n",
    "-input()"
   ]
  },
  {
   "cell_type": "code",
   "execution_count": 24,
   "metadata": {},
   "outputs": [
    {
     "name": "stdout",
     "output_type": "stream",
     "text": [
      "13\n"
     ]
    }
   ],
   "source": [
    "# 입력은 무조건 문자열(str)\n",
    "x = input()\n",
    "y = input()\n",
    "print(x + y) # 문자열 결합이 됨"
   ]
  },
  {
   "cell_type": "code",
   "execution_count": null,
   "metadata": {},
   "outputs": [],
   "source": [
    "# 입력을 정수로 변경해줘야 함\n",
    "x = int(input())\n",
    "y = int(input())\n",
    "print1(x + y)"
   ]
  }
 ],
 "metadata": {
  "kernelspec": {
   "display_name": "Python 3",
   "language": "python",
   "name": "python3"
  },
  "language_info": {
   "codemirror_mode": {
    "name": "ipython",
    "version": 3
   },
   "file_extension": ".py",
   "mimetype": "text/x-python",
   "name": "python",
   "nbconvert_exporter": "python",
   "pygments_lexer": "ipython3",
   "version": "3.11.7"
  }
 },
 "nbformat": 4,
 "nbformat_minor": 2
}
